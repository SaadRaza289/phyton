{
 "cells": [
  {
   "cell_type": "code",
   "execution_count": 1,
   "id": "3d350677",
   "metadata": {},
   "outputs": [],
   "source": [
    "import numpy as np"
   ]
  },
  {
   "cell_type": "code",
   "execution_count": 2,
   "id": "c550b26c",
   "metadata": {},
   "outputs": [
    {
     "name": "stdout",
     "output_type": "stream",
     "text": [
      "[1 2 3 5 6 7 8]\n",
      "(7,)\n",
      "(4,)\n"
     ]
    }
   ],
   "source": [
    "list1 = [1,2,3,5,6,7,8]\n",
    "arr = np.array(list1)\n",
    "print(arr)\n",
    "print(arr.shape)\n",
    "print(arr.strides)"
   ]
  },
  {
   "cell_type": "code",
   "execution_count": 3,
   "id": "45dba327",
   "metadata": {},
   "outputs": [
    {
     "data": {
      "text/plain": [
       "array([1, 2])"
      ]
     },
     "execution_count": 3,
     "metadata": {},
     "output_type": "execute_result"
    }
   ],
   "source": [
    "arr[0:2]"
   ]
  },
  {
   "cell_type": "code",
   "execution_count": 4,
   "id": "648d3b2c",
   "metadata": {},
   "outputs": [
    {
     "data": {
      "text/plain": [
       "array([8, 6, 3])"
      ]
     },
     "execution_count": 4,
     "metadata": {},
     "output_type": "execute_result"
    }
   ],
   "source": [
    "arr2 = arr[-1:-6:-2]\n",
    "arr2"
   ]
  },
  {
   "cell_type": "code",
   "execution_count": 5,
   "id": "e51e6005",
   "metadata": {},
   "outputs": [
    {
     "data": {
      "text/plain": [
       "array([1, 2, 3, 5, 6, 7, 8])"
      ]
     },
     "execution_count": 5,
     "metadata": {},
     "output_type": "execute_result"
    }
   ],
   "source": [
    "arr[:]\n"
   ]
  },
  {
   "cell_type": "code",
   "execution_count": 6,
   "id": "5904dfac",
   "metadata": {},
   "outputs": [
    {
     "data": {
      "text/plain": [
       "array([8, 7, 6, 5, 3, 2, 1])"
      ]
     },
     "execution_count": 6,
     "metadata": {},
     "output_type": "execute_result"
    }
   ],
   "source": [
    "arr[::-1]"
   ]
  },
  {
   "cell_type": "code",
   "execution_count": null,
   "id": "de435265",
   "metadata": {},
   "outputs": [],
   "source": []
  },
  {
   "cell_type": "code",
   "execution_count": null,
   "id": "168af050",
   "metadata": {},
   "outputs": [],
   "source": []
  },
  {
   "cell_type": "code",
   "execution_count": null,
   "id": "38df1f6f",
   "metadata": {},
   "outputs": [],
   "source": []
  },
  {
   "cell_type": "code",
   "execution_count": 7,
   "id": "a4274267",
   "metadata": {},
   "outputs": [
    {
     "name": "stdout",
     "output_type": "stream",
     "text": [
      "[[1 2]\n",
      " [3 5]\n",
      " [6 7]]\n",
      "(3, 2)\n",
      "(8, 4)\n"
     ]
    }
   ],
   "source": [
    "list1 = [[1,2],[3,5],[6,7]]\n",
    "arr = np.array(list1)\n",
    "print(arr)\n",
    "print(arr.shape)\n",
    "print(arr.strides)"
   ]
  },
  {
   "cell_type": "code",
   "execution_count": 8,
   "id": "7e9f18ad",
   "metadata": {},
   "outputs": [
    {
     "data": {
      "text/plain": [
       "array([3, 5])"
      ]
     },
     "execution_count": 8,
     "metadata": {},
     "output_type": "execute_result"
    }
   ],
   "source": [
    "arr[1]"
   ]
  },
  {
   "cell_type": "code",
   "execution_count": 9,
   "id": "25f736f3",
   "metadata": {},
   "outputs": [
    {
     "data": {
      "text/plain": [
       "array([[1, 2],\n",
       "       [3, 5],\n",
       "       [6, 7]])"
      ]
     },
     "execution_count": 9,
     "metadata": {},
     "output_type": "execute_result"
    }
   ],
   "source": [
    "arr[:]"
   ]
  },
  {
   "cell_type": "code",
   "execution_count": 10,
   "id": "a5ae5151",
   "metadata": {},
   "outputs": [
    {
     "data": {
      "text/plain": [
       "array([[3, 5]])"
      ]
     },
     "execution_count": 10,
     "metadata": {},
     "output_type": "execute_result"
    }
   ],
   "source": [
    "arr[1:2]"
   ]
  },
  {
   "cell_type": "code",
   "execution_count": 11,
   "id": "189d68f0",
   "metadata": {},
   "outputs": [
    {
     "data": {
      "text/plain": [
       "array([[3, 5]])"
      ]
     },
     "execution_count": 11,
     "metadata": {},
     "output_type": "execute_result"
    }
   ],
   "source": [
    "arr[1:2,:]"
   ]
  },
  {
   "cell_type": "code",
   "execution_count": 12,
   "id": "ffbb3d39",
   "metadata": {},
   "outputs": [
    {
     "data": {
      "text/plain": [
       "3"
      ]
     },
     "execution_count": 12,
     "metadata": {},
     "output_type": "execute_result"
    }
   ],
   "source": [
    "arr[1,0]"
   ]
  },
  {
   "cell_type": "code",
   "execution_count": 13,
   "id": "4b8d03a3",
   "metadata": {},
   "outputs": [
    {
     "data": {
      "text/plain": [
       "array([[6, 7],\n",
       "       [3, 5],\n",
       "       [1, 2]])"
      ]
     },
     "execution_count": 13,
     "metadata": {},
     "output_type": "execute_result"
    }
   ],
   "source": [
    "arr[::-1]"
   ]
  },
  {
   "cell_type": "code",
   "execution_count": 14,
   "id": "13e77ba5",
   "metadata": {},
   "outputs": [
    {
     "data": {
      "text/plain": [
       "array([[2, 1],\n",
       "       [5, 3],\n",
       "       [7, 6]])"
      ]
     },
     "execution_count": 14,
     "metadata": {},
     "output_type": "execute_result"
    }
   ],
   "source": [
    "arr[::,::-1]"
   ]
  },
  {
   "cell_type": "code",
   "execution_count": 15,
   "id": "c3a073a4",
   "metadata": {},
   "outputs": [],
   "source": [
    "m1 = np.array([\n",
    "            [0,1,2,3,4,5],\n",
    "            [6,7,8,9,10,11],\n",
    "            [12,13,14,15,16,17],\n",
    "            [18,19,20,21,22,23],\n",
    "            [24,25,26,27,28,29],\n",
    "            [30,31,32,33,34,35]\n",
    "])"
   ]
  },
  {
   "cell_type": "code",
   "execution_count": 16,
   "id": "7384e220",
   "metadata": {},
   "outputs": [
    {
     "data": {
      "text/plain": [
       "array([[12, 13, 14, 15, 16, 17],\n",
       "       [18, 19, 20, 21, 22, 23],\n",
       "       [24, 25, 26, 27, 28, 29]])"
      ]
     },
     "execution_count": 16,
     "metadata": {},
     "output_type": "execute_result"
    }
   ],
   "source": [
    "m1[2:5]"
   ]
  },
  {
   "cell_type": "code",
   "execution_count": 17,
   "id": "db679a1c",
   "metadata": {},
   "outputs": [
    {
     "data": {
      "text/plain": [
       "array([2, 3, 4])"
      ]
     },
     "execution_count": 17,
     "metadata": {},
     "output_type": "execute_result"
    }
   ],
   "source": [
    "m1[0,2:5]"
   ]
  },
  {
   "cell_type": "code",
   "execution_count": 42,
   "id": "c90e2e22",
   "metadata": {},
   "outputs": [
    {
     "data": {
      "text/plain": [
       "array([ 2,  8, 14, 20, 26, 32])"
      ]
     },
     "execution_count": 42,
     "metadata": {},
     "output_type": "execute_result"
    }
   ],
   "source": [
    "m1[:,2]"
   ]
  },
  {
   "cell_type": "code",
   "execution_count": 44,
   "id": "6cbc47c2",
   "metadata": {},
   "outputs": [
    {
     "name": "stdout",
     "output_type": "stream",
     "text": [
      "[[ 0  1  2  3  4  5]\n",
      " [ 6  7  8  9 10 11]\n",
      " [12 13 14 15 16 17]\n",
      " [18 19 20 21 22 23]\n",
      " [24 25 26 27 28 29]\n",
      " [30 31 32 33 34 35]]\n"
     ]
    },
    {
     "data": {
      "text/plain": [
       "array([[12, 14, 16],\n",
       "       [24, 26, 28]])"
      ]
     },
     "execution_count": 44,
     "metadata": {},
     "output_type": "execute_result"
    }
   ],
   "source": [
    "print(m1[:,:])\n",
    "m1[2::2,0::2]"
   ]
  },
  {
   "cell_type": "code",
   "execution_count": 22,
   "id": "527b4fcc",
   "metadata": {},
   "outputs": [
    {
     "name": "stdout",
     "output_type": "stream",
     "text": [
      "(6, 6)\n"
     ]
    }
   ],
   "source": [
    "print(m1.shape)"
   ]
  },
  {
   "cell_type": "code",
   "execution_count": 24,
   "id": "82009726",
   "metadata": {},
   "outputs": [
    {
     "data": {
      "text/plain": [
       "array([[ 0,  1,  2,  3,  4,  5],\n",
       "       [ 6,  7,  8,  9, 10, 11],\n",
       "       [12, 13, 14, 15, 16, 17],\n",
       "       [18, 19, 20, 21, 22, 23],\n",
       "       [24, 25, 26, 27, 28, 29],\n",
       "       [30, 31, 32, 33, 34, 35]])"
      ]
     },
     "execution_count": 24,
     "metadata": {},
     "output_type": "execute_result"
    }
   ],
   "source": [
    "m1[:]"
   ]
  },
  {
   "cell_type": "code",
   "execution_count": 26,
   "id": "57e5b848",
   "metadata": {},
   "outputs": [
    {
     "data": {
      "text/plain": [
       "array([[30, 31, 32, 33, 34, 35],\n",
       "       [24, 25, 26, 27, 28, 29],\n",
       "       [18, 19, 20, 21, 22, 23],\n",
       "       [12, 13, 14, 15, 16, 17],\n",
       "       [ 6,  7,  8,  9, 10, 11],\n",
       "       [ 0,  1,  2,  3,  4,  5]])"
      ]
     },
     "execution_count": 26,
     "metadata": {},
     "output_type": "execute_result"
    }
   ],
   "source": [
    "m1[::-1,::]"
   ]
  },
  {
   "cell_type": "code",
   "execution_count": 27,
   "id": "7e0678aa",
   "metadata": {},
   "outputs": [
    {
     "data": {
      "text/plain": [
       "array([[ 5,  4,  3,  2,  1,  0],\n",
       "       [11, 10,  9,  8,  7,  6],\n",
       "       [17, 16, 15, 14, 13, 12],\n",
       "       [23, 22, 21, 20, 19, 18],\n",
       "       [29, 28, 27, 26, 25, 24],\n",
       "       [35, 34, 33, 32, 31, 30]])"
      ]
     },
     "execution_count": 27,
     "metadata": {},
     "output_type": "execute_result"
    }
   ],
   "source": [
    "m1[::,::-1]"
   ]
  },
  {
   "cell_type": "code",
   "execution_count": 28,
   "id": "9725a458",
   "metadata": {},
   "outputs": [
    {
     "data": {
      "text/plain": [
       "0"
      ]
     },
     "execution_count": 28,
     "metadata": {},
     "output_type": "execute_result"
    }
   ],
   "source": [
    "m1[0,0]"
   ]
  },
  {
   "cell_type": "code",
   "execution_count": 32,
   "id": "e9c0b681",
   "metadata": {},
   "outputs": [
    {
     "data": {
      "text/plain": [
       "array([ 1,  7, 13, 19, 25, 31])"
      ]
     },
     "execution_count": 32,
     "metadata": {},
     "output_type": "execute_result"
    }
   ],
   "source": [
    "m1[::,1]"
   ]
  },
  {
   "cell_type": "code",
   "execution_count": 33,
   "id": "f83f1592",
   "metadata": {},
   "outputs": [
    {
     "data": {
      "text/plain": [
       "array([ 6,  7,  8,  9, 10, 11])"
      ]
     },
     "execution_count": 33,
     "metadata": {},
     "output_type": "execute_result"
    }
   ],
   "source": [
    "m1[1]"
   ]
  },
  {
   "cell_type": "code",
   "execution_count": 35,
   "id": "00310b4f",
   "metadata": {},
   "outputs": [
    {
     "data": {
      "text/plain": [
       "array([ 1,  7, 13, 19, 25, 31])"
      ]
     },
     "execution_count": 35,
     "metadata": {},
     "output_type": "execute_result"
    }
   ],
   "source": [
    "m1[:,1]"
   ]
  },
  {
   "cell_type": "code",
   "execution_count": null,
   "id": "d61c6d4b",
   "metadata": {},
   "outputs": [],
   "source": []
  },
  {
   "cell_type": "code",
   "execution_count": null,
   "id": "2067a4f6",
   "metadata": {},
   "outputs": [],
   "source": []
  },
  {
   "cell_type": "code",
   "execution_count": 29,
   "id": "ed925f49",
   "metadata": {},
   "outputs": [
    {
     "name": "stdout",
     "output_type": "stream",
     "text": [
      "Original Array:\n",
      " [[[1 2 3]\n",
      "  [5 6 7]\n",
      "  [9 0 5]\n",
      "  [2 3 4]]\n",
      "\n",
      " [[8 1 6]\n",
      "  [1 9 4]\n",
      "  [5 8 2]\n",
      "  [3 4 4]]\n",
      "\n",
      " [[2 3 4]\n",
      "  [1 2 3]\n",
      "  [2 5 6]\n",
      "  [2 3 4]]]\n",
      "Array Shape =  (3, 4, 3)\n",
      "Strides: (48, 12, 4)\n"
     ]
    }
   ],
   "source": [
    "import numpy as np\n",
    "mylist = [\n",
    "          [[1, 2, 3], [5, 6, 7], [9, 0, 5], [2,3,4]],\n",
    "          [[8, 1, 6], [1, 9, 4], [5, 8, 2], [3,4,4]],\n",
    "          [[2, 3, 4], [1, 2, 3], [2, 5, 6], [2,3, 4]]\n",
    "         ]\n",
    "arr = np.array(mylist)\n",
    "print(\"Original Array:\\n\", arr)\n",
    "print(\"Array Shape = \",arr.shape)\n",
    "print(\"Strides:\", arr.strides)\n"
   ]
  },
  {
   "cell_type": "code",
   "execution_count": 31,
   "id": "b808c511",
   "metadata": {},
   "outputs": [
    {
     "data": {
      "text/plain": [
       "5"
      ]
     },
     "execution_count": 31,
     "metadata": {},
     "output_type": "execute_result"
    }
   ],
   "source": [
    "arr[1][2][0]"
   ]
  },
  {
   "cell_type": "code",
   "execution_count": 46,
   "id": "816a1f26",
   "metadata": {},
   "outputs": [],
   "source": [
    "#fancy Index#"
   ]
  },
  {
   "cell_type": "code",
   "execution_count": 47,
   "id": "12d24650",
   "metadata": {},
   "outputs": [
    {
     "name": "stdout",
     "output_type": "stream",
     "text": [
      "[31 80 76 72 23 48 90 42  6 10]\n",
      "[31 76 23 90]\n"
     ]
    }
   ],
   "source": [
    "arr = np.random.randint(1,100,10)\n",
    "print (arr)\n",
    "print (arr[np.array([0,2,4,6])])"
   ]
  },
  {
   "cell_type": "code",
   "execution_count": 49,
   "id": "2b9086d8",
   "metadata": {},
   "outputs": [
    {
     "name": "stdout",
     "output_type": "stream",
     "text": [
      "[31 76 23 90]\n"
     ]
    }
   ],
   "source": [
    "print(arr[[0,2,4,6]])"
   ]
  },
  {
   "cell_type": "code",
   "execution_count": 50,
   "id": "d044f3b6",
   "metadata": {},
   "outputs": [
    {
     "name": "stdout",
     "output_type": "stream",
     "text": [
      "Original Array:  [ 52 100  39  96  99  90  94  31  31  35]\n",
      "\n",
      "arr[arr%2 == 0] =  [ 52 100  96  90  94]\n",
      "arr[arr%2 == 1] =  [39 99 31 31 35]\n",
      "\n",
      "arr[arr > 50] =  [ 52 100  96  99  90  94]\n",
      "arr[arr>30 & arr<60] =  [52 39 31 31 35]\n"
     ]
    }
   ],
   "source": [
    "# Boolean Indexing\n",
    "import numpy as np\n",
    "# creating 1-D array of size 10 of int type b/w interval (1,100) \n",
    "arr = np.random.randint(1, 101, 10)\n",
    "print(\"Original Array: \", arr)\n",
    "\n",
    "# Getting even values from array\n",
    "print(\"\\narr[arr%2 == 0] = \",arr[arr%2==0])\n",
    "# Getting odd values from array\n",
    "print(\"arr[arr%2 == 1] = \",arr[arr%2==1])\n",
    "\n",
    "# Getting values greater than 50\n",
    "print(\"\\narr[arr > 50] = \",arr[arr > 50])\n",
    "# Getting values between 25 and 75 both exclusive\n",
    "print(\"arr[arr>30 & arr<60] = \",arr[(arr>30) & (arr<60)])"
   ]
  },
  {
   "cell_type": "code",
   "execution_count": null,
   "id": "24dd3bb7",
   "metadata": {},
   "outputs": [],
   "source": []
  }
 ],
 "metadata": {
  "kernelspec": {
   "display_name": "Python 3 (ipykernel)",
   "language": "python",
   "name": "python3"
  },
  "language_info": {
   "codemirror_mode": {
    "name": "ipython",
    "version": 3
   },
   "file_extension": ".py",
   "mimetype": "text/x-python",
   "name": "python",
   "nbconvert_exporter": "python",
   "pygments_lexer": "ipython3",
   "version": "3.9.12"
  }
 },
 "nbformat": 4,
 "nbformat_minor": 5
}
