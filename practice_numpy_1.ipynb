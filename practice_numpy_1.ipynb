{
 "cells": [
  {
   "cell_type": "code",
   "execution_count": 1,
   "id": "e82e7cf9",
   "metadata": {},
   "outputs": [],
   "source": [
    "import numpy as np"
   ]
  },
  {
   "cell_type": "code",
   "execution_count": 2,
   "id": "d35198b5",
   "metadata": {},
   "outputs": [
    {
     "name": "stdout",
     "output_type": "stream",
     "text": [
      "[]\n",
      "<class 'numpy.ndarray'>\n"
     ]
    }
   ],
   "source": [
    "arr = np.array([])\n",
    "print(arr)\n",
    "print(type(arr))"
   ]
  },
  {
   "cell_type": "code",
   "execution_count": 3,
   "id": "c8ebb638",
   "metadata": {},
   "outputs": [
    {
     "name": "stdout",
     "output_type": "stream",
     "text": [
      "array: \n",
      " []\n",
      "arr.data:  <memory at 0x0000027AC6868B80>\n",
      "arr.shape:  (0,)\n",
      "arr.dtype:  float64\n",
      "arr.size:  0\n",
      "arr.itemsize:  8\n",
      "arr.nbytes:  0\n",
      "arr.strides:  (8,)\n"
     ]
    }
   ],
   "source": [
    "print(\"array: \\n\", arr)\n",
    "print(\"arr.data: \", arr.data)\n",
    "print(\"arr.shape: \", arr.shape)  \n",
    "print(\"arr.dtype: \", arr.dtype)  \n",
    "print(\"arr.size: \", arr.size)    \n",
    "print(\"arr.itemsize: \", arr.itemsize) \n",
    "print(\"arr.nbytes: \", arr.nbytes)  \n",
    "print(\"arr.strides: \", arr.strides)\n"
   ]
  },
  {
   "cell_type": "code",
   "execution_count": 6,
   "id": "0218b697",
   "metadata": {},
   "outputs": [
    {
     "name": "stdout",
     "output_type": "stream",
     "text": [
      "array: \n",
      " [1 2 3 4 5 6 7 8]\n",
      "arr.data:  <memory at 0x0000027AC6905040>\n",
      "arr.shape:  (8,)\n",
      "arr.dtype:  int8\n",
      "arr.size:  8\n",
      "arr.itemsize:  1\n",
      "arr.nbytes:  8\n",
      "arr.strides:  (1,)\n"
     ]
    }
   ],
   "source": [
    "my_list = [1,2,3,4,5,6,7,8]\n",
    "arr = np.array(my_list,dtype = np.int8)\n",
    "\n",
    "print(\"array: \\n\", arr)\n",
    "print(\"arr.data: \", arr.data)\n",
    "print(\"arr.shape: \", arr.shape)  \n",
    "print(\"arr.dtype: \", arr.dtype)  \n",
    "print(\"arr.size: \", arr.size)    \n",
    "print(\"arr.itemsize: \", arr.itemsize) \n",
    "print(\"arr.nbytes: \", arr.nbytes)  \n",
    "print(\"arr.strides: \", arr.strides)\n"
   ]
  },
  {
   "cell_type": "code",
   "execution_count": 11,
   "id": "52708a96",
   "metadata": {},
   "outputs": [
    {
     "name": "stdout",
     "output_type": "stream",
     "text": [
      "array: \n",
      " [[ 1.+0.j  2.+0.j  3.+0.j]\n",
      " [ 4.+0.j  5.+0.j  6.+0.j]\n",
      " [ 7.+0.j  8.+0.j  9.+0.j]\n",
      " [11.+0.j 12.+0.j 13.+0.j]]\n",
      "arr.data:  <memory at 0x0000027AC6789040>\n",
      "arr.shape:  (4, 3)\n",
      "arr.dtype:  complex64\n",
      "arr.size:  12\n",
      "arr.itemsize:  8\n",
      "arr.nbytes:  96\n",
      "arr.strides:  (24, 8)\n"
     ]
    }
   ],
   "source": [
    "my_list_2 = [[1, 2, 3],[4, 5, 6],[7, 8, 9],[11, 12, 13]]\n",
    "arr = np.array(my_list_2, dtype = np.complex64)\n",
    "\n",
    "print(\"array: \\n\", arr)\n",
    "print(\"arr.data: \", arr.data)\n",
    "print(\"arr.shape: \", arr.shape)  \n",
    "print(\"arr.dtype: \", arr.dtype)  \n",
    "print(\"arr.size: \", arr.size)    \n",
    "print(\"arr.itemsize: \", arr.itemsize) \n",
    "print(\"arr.nbytes: \", arr.nbytes)  \n",
    "print(\"arr.strides: \", arr.strides)\n"
   ]
  },
  {
   "cell_type": "code",
   "execution_count": 13,
   "id": "9dc89042",
   "metadata": {},
   "outputs": [
    {
     "name": "stdout",
     "output_type": "stream",
     "text": [
      "array: \n",
      " [[[1 2 3]\n",
      "  [5 6 7]\n",
      "  [3 2 4]]\n",
      "\n",
      " [[8 1 6]\n",
      "  [1 9 4]\n",
      "  [5 6 4]]\n",
      "\n",
      " [[5 3 2]\n",
      "  [2 0 5]\n",
      "  [8 3 0]]\n",
      "\n",
      " [[6 7 1]\n",
      "  [8 1 6]\n",
      "  [1 4 7]]\n",
      "\n",
      " [[2 8 9]\n",
      "  [3 0 4]\n",
      "  [5 2 2]]]\n",
      "arr.data:  <memory at 0x0000027AC67BAC70>\n",
      "arr.shape:  (5, 3, 3)\n",
      "arr.dtype:  uint8\n",
      "arr.size:  45\n",
      "arr.itemsize:  1\n",
      "arr.nbytes:  45\n",
      "arr.strides:  (9, 3, 1)\n"
     ]
    }
   ],
   "source": [
    "mylist = [\n",
    "          [[1, 2, 3], [5, 6, 7], [3, 2, 4]],\n",
    "          [[8, 1, 6], [1, 9, 4], [5, 6, 4]],\n",
    "          [[5, 3, 2], [2, 0, 5], [8, 3, 0]],\n",
    "          [[6, 7, 1], [8, 1, 6], [1, 4, 7]],\n",
    "          [[2, 8, 9], [3, 0, 4], [5, 2, 2]],\n",
    "         ]\n",
    "arr = np.array(mylist, dtype=np.uint8)\n",
    "\n",
    "\n",
    "print(\"array: \\n\", arr)\n",
    "print(\"arr.data: \", arr.data)\n",
    "print(\"arr.shape: \", arr.shape)  \n",
    "print(\"arr.dtype: \", arr.dtype)  \n",
    "print(\"arr.size: \", arr.size)    \n",
    "print(\"arr.itemsize: \", arr.itemsize) \n",
    "print(\"arr.nbytes: \", arr.nbytes)  \n",
    "print(\"arr.strides: \", arr.strides)"
   ]
  },
  {
   "cell_type": "code",
   "execution_count": 14,
   "id": "edbc6b17",
   "metadata": {},
   "outputs": [],
   "source": [
    "arr = np.zeros(3) #1D array of zeros"
   ]
  },
  {
   "cell_type": "code",
   "execution_count": 15,
   "id": "bf62676a",
   "metadata": {},
   "outputs": [
    {
     "data": {
      "text/plain": [
       "array([0., 0., 0.])"
      ]
     },
     "execution_count": 15,
     "metadata": {},
     "output_type": "execute_result"
    }
   ],
   "source": [
    "arr#by default dtype is float"
   ]
  },
  {
   "cell_type": "code",
   "execution_count": 17,
   "id": "b9478ab3",
   "metadata": {},
   "outputs": [
    {
     "data": {
      "text/plain": [
       "array([[0, 0],\n",
       "       [0, 0],\n",
       "       [0, 0]], dtype=int8)"
      ]
     },
     "execution_count": 17,
     "metadata": {},
     "output_type": "execute_result"
    }
   ],
   "source": [
    "arr = np.zeros((3,2), dtype = np.int8) #2D array with dtype int\n",
    "arr"
   ]
  },
  {
   "cell_type": "code",
   "execution_count": 27,
   "id": "a0ab5cbf",
   "metadata": {},
   "outputs": [
    {
     "ename": "TypeError",
     "evalue": "Cannot interpret '3' as a data type",
     "output_type": "error",
     "traceback": [
      "\u001b[1;31m---------------------------------------------------------------------------\u001b[0m",
      "\u001b[1;31mTypeError\u001b[0m                                 Traceback (most recent call last)",
      "Input \u001b[1;32mIn [27]\u001b[0m, in \u001b[0;36m<cell line: 1>\u001b[1;34m()\u001b[0m\n\u001b[1;32m----> 1\u001b[0m arr \u001b[38;5;241m=\u001b[39m \u001b[43mnp\u001b[49m\u001b[38;5;241;43m.\u001b[39;49m\u001b[43mzeros\u001b[49m\u001b[43m(\u001b[49m\u001b[38;5;241;43m3\u001b[39;49m\u001b[43m,\u001b[49m\u001b[38;5;241;43m3\u001b[39;49m\u001b[43m,\u001b[49m\u001b[38;5;241;43m3\u001b[39;49m\u001b[43m)\u001b[49m \n\u001b[0;32m      2\u001b[0m arr\n",
      "\u001b[1;31mTypeError\u001b[0m: Cannot interpret '3' as a data type"
     ]
    }
   ],
   "source": [
    "arr = np.zeros(3,3,3) \n",
    "arr"
   ]
  },
  {
   "cell_type": "code",
   "execution_count": 24,
   "id": "f609b6e2",
   "metadata": {},
   "outputs": [
    {
     "data": {
      "text/plain": [
       "array([[[1, 1, 1, 1],\n",
       "        [1, 1, 1, 1]],\n",
       "\n",
       "       [[1, 1, 1, 1],\n",
       "        [1, 1, 1, 1]],\n",
       "\n",
       "       [[1, 1, 1, 1],\n",
       "        [1, 1, 1, 1]]], dtype=int8)"
      ]
     },
     "execution_count": 24,
     "metadata": {},
     "output_type": "execute_result"
    }
   ],
   "source": [
    "arr = np.ones((3,2,4),dtype = np.int8)\n",
    "arr"
   ]
  },
  {
   "cell_type": "code",
   "execution_count": 3,
   "id": "8df5c52b",
   "metadata": {},
   "outputs": [
    {
     "data": {
      "text/plain": [
       "array([1, 1])"
      ]
     },
     "execution_count": 3,
     "metadata": {},
     "output_type": "execute_result"
    }
   ],
   "source": [
    "arr = np.full(2,1)\n",
    "arr"
   ]
  },
  {
   "cell_type": "code",
   "execution_count": 18,
   "id": "a6ff97be",
   "metadata": {},
   "outputs": [
    {
     "data": {
      "text/plain": [
       "array([[[21, 21, 21],\n",
       "        [21, 21, 21]],\n",
       "\n",
       "       [[21, 21, 21],\n",
       "        [21, 21, 21]],\n",
       "\n",
       "       [[21, 21, 21],\n",
       "        [21, 21, 21]]])"
      ]
     },
     "execution_count": 18,
     "metadata": {},
     "output_type": "execute_result"
    }
   ],
   "source": [
    "arr = np.full((3,2,3),21)\n",
    "arr"
   ]
  },
  {
   "cell_type": "code",
   "execution_count": 9,
   "id": "9440e357",
   "metadata": {},
   "outputs": [
    {
     "data": {
      "text/plain": [
       "array([[1, 0, 0],\n",
       "       [0, 1, 0],\n",
       "       [0, 0, 1]])"
      ]
     },
     "execution_count": 9,
     "metadata": {},
     "output_type": "execute_result"
    }
   ],
   "source": [
    "dia_arr = np.eye(3,3,k = 0 ,dtype = int)\n",
    "dia_arr"
   ]
  },
  {
   "cell_type": "code",
   "execution_count": 13,
   "id": "92bf8571",
   "metadata": {},
   "outputs": [
    {
     "data": {
      "text/plain": [
       "array([[0, 0],\n",
       "       [0, 0],\n",
       "       [1, 0]])"
      ]
     },
     "execution_count": 13,
     "metadata": {},
     "output_type": "execute_result"
    }
   ],
   "source": [
    "dia_arr = np.eye(3,2,k = -2, dtype =int)\n",
    "dia_arr"
   ]
  },
  {
   "cell_type": "code",
   "execution_count": 17,
   "id": "4006b120",
   "metadata": {},
   "outputs": [
    {
     "data": {
      "text/plain": [
       "array([12, 13, 15], dtype=int8)"
      ]
     },
     "execution_count": 17,
     "metadata": {},
     "output_type": "execute_result"
    }
   ],
   "source": [
    "arr = np.fromstring('12,13,15', sep = ',', dtype = np.int8)\n",
    "arr"
   ]
  },
  {
   "cell_type": "code",
   "execution_count": 25,
   "id": "f4c1a1ea",
   "metadata": {},
   "outputs": [
    {
     "data": {
      "text/plain": [
       "array([0, 1, 2, 3])"
      ]
     },
     "execution_count": 25,
     "metadata": {},
     "output_type": "execute_result"
    }
   ],
   "source": [
    "arr = np.arange(4)\n",
    "arr"
   ]
  },
  {
   "cell_type": "code",
   "execution_count": 28,
   "id": "6e66ba55",
   "metadata": {},
   "outputs": [
    {
     "data": {
      "text/plain": [
       "array([2, 3, 4, 5, 6])"
      ]
     },
     "execution_count": 28,
     "metadata": {},
     "output_type": "execute_result"
    }
   ],
   "source": [
    "arr = np.arange(2,7)\n",
    "arr"
   ]
  },
  {
   "cell_type": "code",
   "execution_count": 32,
   "id": "4fd06709",
   "metadata": {},
   "outputs": [
    {
     "data": {
      "text/plain": [
       "array([1, 5, 9])"
      ]
     },
     "execution_count": 32,
     "metadata": {},
     "output_type": "execute_result"
    }
   ],
   "source": [
    "arr =np.linspace(1,9, num =3, dtype =int)\n",
    "arr"
   ]
  },
  {
   "cell_type": "code",
   "execution_count": 35,
   "id": "d65dc492",
   "metadata": {},
   "outputs": [
    {
     "data": {
      "text/plain": [
       "array([[0.24019179, 0.18993862, 0.56778195, 0.32405216],\n",
       "       [0.71818684, 0.03294649, 0.44799065, 0.36779372],\n",
       "       [0.09729271, 0.33173098, 0.82002839, 0.17531234]])"
      ]
     },
     "execution_count": 35,
     "metadata": {},
     "output_type": "execute_result"
    }
   ],
   "source": [
    "arr = np.random.rand(3,4)\n",
    "arr"
   ]
  },
  {
   "cell_type": "code",
   "execution_count": 37,
   "id": "afae9569",
   "metadata": {},
   "outputs": [
    {
     "data": {
      "text/plain": [
       "array([7, 9])"
      ]
     },
     "execution_count": 37,
     "metadata": {},
     "output_type": "execute_result"
    }
   ],
   "source": [
    "arr = np.random.randint(low =4, high = 10, size =2)\n",
    "arr"
   ]
  },
  {
   "cell_type": "code",
   "execution_count": null,
   "id": "be19a932",
   "metadata": {},
   "outputs": [],
   "source": []
  }
 ],
 "metadata": {
  "kernelspec": {
   "display_name": "Python 3 (ipykernel)",
   "language": "python",
   "name": "python3"
  },
  "language_info": {
   "codemirror_mode": {
    "name": "ipython",
    "version": 3
   },
   "file_extension": ".py",
   "mimetype": "text/x-python",
   "name": "python",
   "nbconvert_exporter": "python",
   "pygments_lexer": "ipython3",
   "version": "3.9.12"
  }
 },
 "nbformat": 4,
 "nbformat_minor": 5
}
