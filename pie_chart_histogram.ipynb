{
 "cells": [
  {
   "cell_type": "code",
   "execution_count": 1,
   "id": "2a947ae2",
   "metadata": {},
   "outputs": [],
   "source": [
    "import numpy as np\n",
    "from matplotlib import pyplot as plt"
   ]
  },
  {
   "cell_type": "code",
   "execution_count": null,
   "id": "6ab6f8c3",
   "metadata": {},
   "outputs": [],
   "source": []
  },
  {
   "cell_type": "markdown",
   "id": "75349ab4",
   "metadata": {},
   "source": [
    "# PIE CHART"
   ]
  },
  {
   "cell_type": "code",
   "execution_count": 8,
   "id": "ee9e7900",
   "metadata": {},
   "outputs": [
    {
     "data": {
      "image/png": "[encoded data removed]",
      "text/plain": [
       "<Figure size 432x288 with 1 Axes>"
      ]
     },
     "metadata": {},
     "output_type": "display_data"
    }
   ],
   "source": [
    "\n",
    "fig, ax = plt.subplots()\n",
    "# fig = plt.figure()\n",
    "# ax = fig.add_subplot()\n",
    "\n",
    "slices = [50, 150, 300 ]\n",
    "\n",
    "labels = ['One', 'Two', 'Three']\n",
    "\n",
    "explode = [0.2,0,0]\n",
    "\n",
    "ax.pie(x = slices, labels = labels, autopct='%.1f%%', explode = explode, shadow= True)\n",
    "\n",
    "plt.title('Pie Chart')\n",
    "\n",
    "plt.show()"
   ]
  },
  {
   "cell_type": "code",
   "execution_count": null,
   "id": "3654f987",
   "metadata": {},
   "outputs": [],
   "source": []
  },
  {
   "cell_type": "markdown",
   "id": "4e555128",
   "metadata": {},
   "source": [
    "# HISTOGRAM"
   ]
  },
  {
   "cell_type": "code",
   "execution_count": 10,
   "id": "ec69a730",
   "metadata": {},
   "outputs": [
    {
     "data": {
      "image/png": "[encoded data removed]",
      "text/plain": [
       "<Figure size 432x288 with 1 Axes>"
      ]
     },
     "metadata": {
      "needs_background": "light"
     },
     "output_type": "display_data"
    }
   ],
   "source": [
    "fig, ax = plt.subplots()\n",
    "\n",
    "# Data for the histogram plot\n",
    "ages = [14.0, 19.0, 28.0, 22.0, 30.0, 28.0, 42.0, 24.0, 23.0, 22.0, 21.0, 28.0, 31.0, 20.0, 26.0, 29.0, 31.0, \n",
    "         38.0, 47.0, 22.0, 23.0, 22.0, 34.0, 22.0, 32.0, 28.0, 21.0, 25.0, 17.0, 35.0, 21.0, 27.0, 44.0, 42.0, \n",
    "         23.0, 30.0, 27.0, 43.0, 62.0, 37.0, 45.0, 20.0, 34.0, 23.0, 18.0, 22.0, 18.0, 37.0, 25.0, 33.0, 31.0, \n",
    "         47.0, 38.0, 27.0, 34.0, 19.0, 42.0, 25.0, 21.0, 24.0, 29.0, 18.0, 42.0, 21.0, 29.0, 36.0, 24.0, 27.0, \n",
    "         32.0, 43.0, 25.0, 20.0, 24.0, 28.0, 22.0, 26.0, 31.0, 26.0, 36.0, 16.0, 25.0, 25.0, 35.0, 32.0, 27.0, \n",
    "         30.0, 43.0, 25.0, 30.0, 21.0, 39.0, 35.0, 37.0, 29.0, 33.0, 24.0, 64.0, 41.0, 26.0, 54.0, 19.0, 49.0, \n",
    "         26.0, 21.0, 31.0, 38.0, 26.0, 28.0, 26.0, 20.0, 24.0, 27.0, 35.0, 32.0, 36.0, 30.0, 34.0, 23.0, 30.0, \n",
    "         39.0, 54.0, 32.0, 25.0, 24.0, 25.0, 21.0, 24.0, 36.0, 47.0, 47.0, 28.0, 40.0, 31.0, 34.0, 39.0, 40.0, \n",
    "         34.0, 36.0, 25.0, 29.0, 35.0, 43.0, 35.0, 32.0, 47.0, 30.0, 28.0, 32.0, 25.0, 31.0, 31.0, 24.0, 20.0, \n",
    "         31.0, 22.0, 28.0, 35.0, 32.0, 29.0, 18.0, 30.0, 29.0, 28.0, 26.0, 23.0, 28.0, 28.0, 27.0, 27.0, 28.0, \n",
    "         56.0, 29.0, 22.0, 40.0, 40.0, 30.0, 43.0, 35.0, 45.0, 29.0, 12.0, 24.0, 33.0, 34.0, 26.0, 33.0, 47.0, \n",
    "         30.0, 30.0, 41.0, 58.0, 46.0, 35.0, 36.0, 36.0, 39.0, 47.0, 59.0, 23.0, 28.0, 38.0, 33.0, 25.0, 25.0, \n",
    "         31.0, 32.0, 36.0, 45.0, 21.0, 29.0, 21.0, 31.0, 21.0, 32.0, 30.0, 17.0, 44.0, 35.0, 33.0, 33.0, 30.0, \n",
    "         24.0, 27.0, 20.0, 27.0, 28.0, 41.0, 20.0, 20.0, 43.0, 23.0, 31.0, 27.0, 24.0, 40.0, 40.0, 33.0, 23.0]\n",
    "\n",
    "# ax.hist(x=ages)\n",
    "\n",
    "# bins = [0,20,25,30,35,40,100]\n",
    "ax.hist(x=ages, bins=15, edgecolor='black', color='green', histtype='stepfilled',orientation='vertical')\n",
    "# ax.hist(x=ages, bins=bins, edgecolor='black', color='green', histtype='bar',orientation='vertical')\n",
    "\n",
    "plt.xlabel(\"Ages\")\n",
    "plt.ylabel('Count')\n",
    "plt.grid(True)\n",
    "plt.show()"
   ]
  },
  {
   "cell_type": "code",
   "execution_count": null,
   "id": "e9ecd78e",
   "metadata": {},
   "outputs": [],
   "source": []
  }
 ],
 "metadata": {
  "kernelspec": {
   "display_name": "Python 3 (ipykernel)",
   "language": "python",
   "name": "python3"
  },
  "language_info": {
   "codemirror_mode": {
    "name": "ipython",
    "version": 3
   },
   "file_extension": ".py",
   "mimetype": "text/x-python",
   "name": "python",
   "nbconvert_exporter": "python",
   "pygments_lexer": "ipython3",
   "version": "3.9.12"
  }
 },
 "nbformat": 4,
 "nbformat_minor": 5
}
