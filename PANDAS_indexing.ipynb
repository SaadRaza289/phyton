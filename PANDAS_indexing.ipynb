{
 "cells": [
  {
   "cell_type": "code",
   "execution_count": null,
   "id": "26f05766",
   "metadata": {},
   "outputs": [],
   "source": []
  },
  {
   "cell_type": "code",
   "execution_count": null,
   "id": "3abb7a51",
   "metadata": {},
   "outputs": [],
   "source": []
  },
  {
   "cell_type": "code",
   "execution_count": 2,
   "id": "e5061148",
   "metadata": {},
   "outputs": [],
   "source": [
    "import pandas as pd"
   ]
  },
  {
   "cell_type": "code",
   "execution_count": 3,
   "id": "eab15292",
   "metadata": {},
   "outputs": [
    {
     "data": {
      "text/plain": [
       "5        Rauf\n",
       "10       Arif\n",
       "15       Maaz\n",
       "20     Hadeed\n",
       "25    Mujahid\n",
       "dtype: object"
      ]
     },
     "execution_count": 3,
     "metadata": {},
     "output_type": "execute_result"
    }
   ],
   "source": [
    "list1 = ['Rauf', 'Arif', 'Maaz', 'Hadeed', 'Mujahid']\n",
    "indices = [5, 10, 15, 20, 25]\n",
    "s = pd.Series(data=list1, index=indices)\n",
    "s"
   ]
  },
  {
   "cell_type": "markdown",
   "id": "11f4ebb9",
   "metadata": {},
   "source": [
    "# using subcript operater"
   ]
  },
  {
   "cell_type": "code",
   "execution_count": 4,
   "id": "137dad48",
   "metadata": {},
   "outputs": [
    {
     "data": {
      "text/plain": [
       "'Rauf'"
      ]
     },
     "execution_count": 4,
     "metadata": {},
     "output_type": "execute_result"
    }
   ],
   "source": [
    "s[5]"
   ]
  },
  {
   "cell_type": "code",
   "execution_count": 7,
   "id": "47af686b",
   "metadata": {},
   "outputs": [],
   "source": [
    "# s[0]\n",
    "# subcript operator does not work on postional index for integer. It will flag an error"
   ]
  },
  {
   "cell_type": "code",
   "execution_count": 9,
   "id": "b67d1ca5",
   "metadata": {},
   "outputs": [
    {
     "data": {
      "text/plain": [
       "5       Rauf\n",
       "10      Arif\n",
       "15      Maaz\n",
       "20    Hadeed\n",
       "dtype: object"
      ]
     },
     "execution_count": 9,
     "metadata": {},
     "output_type": "execute_result"
    }
   ],
   "source": [
    "s[0:4]\n",
    "# but for slicing subsript operator use positional index."
   ]
  },
  {
   "cell_type": "code",
   "execution_count": 12,
   "id": "1d37b3d5",
   "metadata": {},
   "outputs": [
    {
     "data": {
      "text/plain": [
       "20    Hadeed\n",
       "5       Rauf\n",
       "dtype: object"
      ]
     },
     "execution_count": 12,
     "metadata": {},
     "output_type": "execute_result"
    }
   ],
   "source": [
    "s[[20,5]]"
   ]
  },
  {
   "cell_type": "code",
   "execution_count": 40,
   "id": "0e71cb56",
   "metadata": {},
   "outputs": [],
   "source": [
    "# s[-1]"
   ]
  },
  {
   "cell_type": "markdown",
   "id": "beaafd5d",
   "metadata": {},
   "source": [
    "# using string index"
   ]
  },
  {
   "cell_type": "code",
   "execution_count": 28,
   "id": "cb014e22",
   "metadata": {},
   "outputs": [
    {
     "data": {
      "text/plain": [
       "num1       Rauf\n",
       "num2       Arif\n",
       "num3       Maaz\n",
       "num4     Hadeed\n",
       "num5    Mujahid\n",
       "dtype: object"
      ]
     },
     "execution_count": 28,
     "metadata": {},
     "output_type": "execute_result"
    }
   ],
   "source": [
    "list2 = ['Rauf', 'Arif', 'Maaz', 'Hadeed', 'Mujahid']\n",
    "indices2 = ['num1', 'num2', 'num3', 'num4', 'num5']\n",
    "s2 = pd.Series(data=list2, index=indices2)\n",
    "s2"
   ]
  },
  {
   "cell_type": "code",
   "execution_count": 29,
   "id": "60d8ff16",
   "metadata": {},
   "outputs": [
    {
     "data": {
      "text/plain": [
       "'Rauf'"
      ]
     },
     "execution_count": 29,
     "metadata": {},
     "output_type": "execute_result"
    }
   ],
   "source": [
    "s2[0]\n",
    "# for string indecies, subscipt operator works on postional index as well as actual index"
   ]
  },
  {
   "cell_type": "code",
   "execution_count": 30,
   "id": "0b3c5ebb",
   "metadata": {},
   "outputs": [
    {
     "data": {
      "text/plain": [
       "'Rauf'"
      ]
     },
     "execution_count": 30,
     "metadata": {},
     "output_type": "execute_result"
    }
   ],
   "source": [
    "s2['num1']"
   ]
  },
  {
   "cell_type": "code",
   "execution_count": 31,
   "id": "abad6cf4",
   "metadata": {},
   "outputs": [
    {
     "data": {
      "text/plain": [
       "num1      Rauf\n",
       "num4    Hadeed\n",
       "dtype: object"
      ]
     },
     "execution_count": 31,
     "metadata": {},
     "output_type": "execute_result"
    }
   ],
   "source": [
    "s2[[0,3]]"
   ]
  },
  {
   "cell_type": "code",
   "execution_count": 33,
   "id": "0f779a0a",
   "metadata": {},
   "outputs": [
    {
     "data": {
      "text/plain": [
       "num1      Rauf\n",
       "num4    Hadeed\n",
       "dtype: object"
      ]
     },
     "execution_count": 33,
     "metadata": {},
     "output_type": "execute_result"
    }
   ],
   "source": [
    "s2[['num1', 'num4']]"
   ]
  },
  {
   "cell_type": "code",
   "execution_count": 34,
   "id": "8be7c608",
   "metadata": {},
   "outputs": [
    {
     "data": {
      "text/plain": [
       "num1      Rauf\n",
       "num2      Arif\n",
       "num3      Maaz\n",
       "num4    Hadeed\n",
       "dtype: object"
      ]
     },
     "execution_count": 34,
     "metadata": {},
     "output_type": "execute_result"
    }
   ],
   "source": [
    "s2[0:4]"
   ]
  },
  {
   "cell_type": "code",
   "execution_count": 35,
   "id": "672e7472",
   "metadata": {},
   "outputs": [
    {
     "data": {
      "text/plain": [
       "num1      Rauf\n",
       "num2      Arif\n",
       "num3      Maaz\n",
       "num4    Hadeed\n",
       "dtype: object"
      ]
     },
     "execution_count": 35,
     "metadata": {},
     "output_type": "execute_result"
    }
   ],
   "source": [
    "s2['num1':'num4']"
   ]
  },
  {
   "cell_type": "code",
   "execution_count": 36,
   "id": "f87e3035",
   "metadata": {},
   "outputs": [
    {
     "data": {
      "text/plain": [
       "num5    Mujahid\n",
       "num4     Hadeed\n",
       "num3       Maaz\n",
       "num2       Arif\n",
       "dtype: object"
      ]
     },
     "execution_count": 36,
     "metadata": {},
     "output_type": "execute_result"
    }
   ],
   "source": [
    "s2[4:0:-1]"
   ]
  },
  {
   "cell_type": "code",
   "execution_count": 37,
   "id": "70039678",
   "metadata": {},
   "outputs": [
    {
     "data": {
      "text/plain": [
       "num4    Hadeed\n",
       "num3      Maaz\n",
       "num2      Arif\n",
       "num1      Rauf\n",
       "dtype: object"
      ]
     },
     "execution_count": 37,
     "metadata": {},
     "output_type": "execute_result"
    }
   ],
   "source": [
    "s2['num4':'num1':-1]"
   ]
  },
  {
   "cell_type": "code",
   "execution_count": 38,
   "id": "f587521b",
   "metadata": {},
   "outputs": [
    {
     "data": {
      "text/plain": [
       "'Mujahid'"
      ]
     },
     "execution_count": 38,
     "metadata": {},
     "output_type": "execute_result"
    }
   ],
   "source": [
    "s2[-1]"
   ]
  },
  {
   "cell_type": "code",
   "execution_count": null,
   "id": "9d195c91",
   "metadata": {},
   "outputs": [],
   "source": []
  },
  {
   "cell_type": "markdown",
   "id": "d78256b0",
   "metadata": {},
   "source": [
    "# using loc "
   ]
  },
  {
   "cell_type": "code",
   "execution_count": 13,
   "id": "0a6d6354",
   "metadata": {},
   "outputs": [
    {
     "data": {
      "text/plain": [
       "'Rauf'"
      ]
     },
     "execution_count": 13,
     "metadata": {},
     "output_type": "execute_result"
    }
   ],
   "source": [
    "s.loc[5]"
   ]
  },
  {
   "cell_type": "code",
   "execution_count": 14,
   "id": "b30db452",
   "metadata": {},
   "outputs": [
    {
     "data": {
      "text/plain": [
       "15    Maaz\n",
       "5     Rauf\n",
       "dtype: object"
      ]
     },
     "execution_count": 14,
     "metadata": {},
     "output_type": "execute_result"
    }
   ],
   "source": [
    "s.loc[[15,5]]"
   ]
  },
  {
   "cell_type": "code",
   "execution_count": 16,
   "id": "839cea9d",
   "metadata": {},
   "outputs": [],
   "source": [
    "# s.loc[2]\n",
    "# does not work for postional index"
   ]
  },
  {
   "cell_type": "code",
   "execution_count": 21,
   "id": "46aef608",
   "metadata": {},
   "outputs": [
    {
     "data": {
      "text/plain": [
       "25    Mujahid\n",
       "20     Hadeed\n",
       "15       Maaz\n",
       "10       Arif\n",
       "5        Rauf\n",
       "dtype: object"
      ]
     },
     "execution_count": 21,
     "metadata": {},
     "output_type": "execute_result"
    }
   ],
   "source": [
    "s.loc[25:5:-1]\n",
    "# in loc method ending index is inclusive"
   ]
  },
  {
   "cell_type": "markdown",
   "id": "6e96b552",
   "metadata": {},
   "source": [
    "# using string index"
   ]
  },
  {
   "cell_type": "code",
   "execution_count": 41,
   "id": "21b6f9bf",
   "metadata": {},
   "outputs": [
    {
     "data": {
      "text/plain": [
       "'Rauf'"
      ]
     },
     "execution_count": 41,
     "metadata": {},
     "output_type": "execute_result"
    }
   ],
   "source": [
    "s2.loc['num1']"
   ]
  },
  {
   "cell_type": "code",
   "execution_count": 47,
   "id": "02d7afa0",
   "metadata": {},
   "outputs": [],
   "source": [
    "# s2.loc[0]\n",
    "# does not work on postional index for string index\n",
    "# s2.loc[[0,3]]\n",
    "# s2.loc[0:3]\n",
    "# s2.loc[-1]"
   ]
  },
  {
   "cell_type": "code",
   "execution_count": 48,
   "id": "56f54510",
   "metadata": {},
   "outputs": [
    {
     "data": {
      "text/plain": [
       "num3    Maaz\n",
       "num1    Rauf\n",
       "dtype: object"
      ]
     },
     "execution_count": 48,
     "metadata": {},
     "output_type": "execute_result"
    }
   ],
   "source": [
    "s2.loc[['num3','num1']]"
   ]
  },
  {
   "cell_type": "code",
   "execution_count": 49,
   "id": "8b6ad7ac",
   "metadata": {},
   "outputs": [
    {
     "data": {
      "text/plain": [
       "num3    Maaz\n",
       "num2    Arif\n",
       "num1    Rauf\n",
       "dtype: object"
      ]
     },
     "execution_count": 49,
     "metadata": {},
     "output_type": "execute_result"
    }
   ],
   "source": [
    "s2.loc['num3':'num1':-1]"
   ]
  },
  {
   "cell_type": "code",
   "execution_count": 50,
   "id": "2a7c7f54",
   "metadata": {},
   "outputs": [
    {
     "data": {
      "text/plain": [
       "num1       Rauf\n",
       "num2       Arif\n",
       "num3       Maaz\n",
       "num4     Hadeed\n",
       "num5    Mujahid\n",
       "dtype: object"
      ]
     },
     "execution_count": 50,
     "metadata": {},
     "output_type": "execute_result"
    }
   ],
   "source": [
    "s2.loc['num1':'num5']"
   ]
  },
  {
   "cell_type": "markdown",
   "id": "f0efb67f",
   "metadata": {},
   "source": [
    "# using iloc"
   ]
  },
  {
   "cell_type": "code",
   "execution_count": 22,
   "id": "83d3b5bc",
   "metadata": {},
   "outputs": [
    {
     "data": {
      "text/plain": [
       "'Rauf'"
      ]
     },
     "execution_count": 22,
     "metadata": {},
     "output_type": "execute_result"
    }
   ],
   "source": [
    "s.iloc[0]"
   ]
  },
  {
   "cell_type": "code",
   "execution_count": 23,
   "id": "b27c22a4",
   "metadata": {},
   "outputs": [
    {
     "data": {
      "text/plain": [
       "5       Rauf\n",
       "20    Hadeed\n",
       "dtype: object"
      ]
     },
     "execution_count": 23,
     "metadata": {},
     "output_type": "execute_result"
    }
   ],
   "source": [
    "s.iloc[[0,3]]"
   ]
  },
  {
   "cell_type": "code",
   "execution_count": 25,
   "id": "9af7c5b3",
   "metadata": {},
   "outputs": [],
   "source": [
    "# s.iloc[25]\n",
    "# does not work for actual index"
   ]
  },
  {
   "cell_type": "code",
   "execution_count": 26,
   "id": "cc241b31",
   "metadata": {},
   "outputs": [
    {
     "data": {
      "text/plain": [
       "5     Rauf\n",
       "10    Arif\n",
       "15    Maaz\n",
       "dtype: object"
      ]
     },
     "execution_count": 26,
     "metadata": {},
     "output_type": "execute_result"
    }
   ],
   "source": [
    "s.iloc[0:3]"
   ]
  },
  {
   "cell_type": "code",
   "execution_count": 27,
   "id": "1939b5ee",
   "metadata": {},
   "outputs": [
    {
     "data": {
      "text/plain": [
       "20    Hadeed\n",
       "15      Maaz\n",
       "10      Arif\n",
       "dtype: object"
      ]
     },
     "execution_count": 27,
     "metadata": {},
     "output_type": "execute_result"
    }
   ],
   "source": [
    "s.iloc[3:0:-1]"
   ]
  },
  {
   "cell_type": "markdown",
   "id": "97bfcb0e",
   "metadata": {},
   "source": [
    "# using string indix"
   ]
  },
  {
   "cell_type": "code",
   "execution_count": 53,
   "id": "36ffd1f9",
   "metadata": {},
   "outputs": [],
   "source": [
    "# s2.iloc['num1']"
   ]
  },
  {
   "cell_type": "code",
   "execution_count": 54,
   "id": "2af3e468",
   "metadata": {},
   "outputs": [
    {
     "data": {
      "text/plain": [
       "'Rauf'"
      ]
     },
     "execution_count": 54,
     "metadata": {},
     "output_type": "execute_result"
    }
   ],
   "source": [
    "s2.iloc[0]"
   ]
  },
  {
   "cell_type": "code",
   "execution_count": 55,
   "id": "d603d151",
   "metadata": {},
   "outputs": [
    {
     "data": {
      "text/plain": [
       "num1      Rauf\n",
       "num2      Arif\n",
       "num3      Maaz\n",
       "num4    Hadeed\n",
       "dtype: object"
      ]
     },
     "execution_count": 55,
     "metadata": {},
     "output_type": "execute_result"
    }
   ],
   "source": [
    "s2.iloc[0:4]"
   ]
  },
  {
   "cell_type": "code",
   "execution_count": 56,
   "id": "cf40ef19",
   "metadata": {},
   "outputs": [
    {
     "data": {
      "text/plain": [
       "num5    Mujahid\n",
       "num4     Hadeed\n",
       "num3       Maaz\n",
       "num2       Arif\n",
       "dtype: object"
      ]
     },
     "execution_count": 56,
     "metadata": {},
     "output_type": "execute_result"
    }
   ],
   "source": [
    "s2.iloc[4:0:-1]"
   ]
  },
  {
   "cell_type": "code",
   "execution_count": 57,
   "id": "224d1840",
   "metadata": {},
   "outputs": [
    {
     "data": {
      "text/plain": [
       "num1       Rauf\n",
       "num3       Maaz\n",
       "num5    Mujahid\n",
       "dtype: object"
      ]
     },
     "execution_count": 57,
     "metadata": {},
     "output_type": "execute_result"
    }
   ],
   "source": [
    "s2.iloc[[0,2,4]]"
   ]
  },
  {
   "cell_type": "code",
   "execution_count": null,
   "id": "6aa005bb",
   "metadata": {},
   "outputs": [],
   "source": []
  }
 ],
 "metadata": {
  "kernelspec": {
   "display_name": "Python 3 (ipykernel)",
   "language": "python",
   "name": "python3"
  },
  "language_info": {
   "codemirror_mode": {
    "name": "ipython",
    "version": 3
   },
   "file_extension": ".py",
   "mimetype": "text/x-python",
   "name": "python",
   "nbconvert_exporter": "python",
   "pygments_lexer": "ipython3",
   "version": "3.9.12"
  }
 },
 "nbformat": 4,
 "nbformat_minor": 5
}
